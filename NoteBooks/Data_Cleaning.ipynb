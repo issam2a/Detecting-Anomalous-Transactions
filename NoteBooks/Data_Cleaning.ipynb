{
 "cells": [
  {
   "cell_type": "markdown",
   "id": "79ace598-4a2f-40ca-8b45-76cc1f46f43d",
   "metadata": {},
   "source": [
    "#  1️⃣ Setup"
   ]
  },
  {
   "cell_type": "code",
   "execution_count": 1,
   "id": "3bc3ae51-e6e1-4a56-9847-384682d35aff",
   "metadata": {},
   "outputs": [
    {
     "name": "stdout",
     "output_type": "stream",
     "text": [
      "Original data shape: (6362620, 11)\n"
     ]
    },
    {
     "data": {
      "text/html": [
       "<div>\n",
       "<style scoped>\n",
       "    .dataframe tbody tr th:only-of-type {\n",
       "        vertical-align: middle;\n",
       "    }\n",
       "\n",
       "    .dataframe tbody tr th {\n",
       "        vertical-align: top;\n",
       "    }\n",
       "\n",
       "    .dataframe thead th {\n",
       "        text-align: right;\n",
       "    }\n",
       "</style>\n",
       "<table border=\"1\" class=\"dataframe\">\n",
       "  <thead>\n",
       "    <tr style=\"text-align: right;\">\n",
       "      <th></th>\n",
       "      <th>step</th>\n",
       "      <th>type</th>\n",
       "      <th>amount</th>\n",
       "      <th>nameOrig</th>\n",
       "      <th>oldbalanceOrg</th>\n",
       "      <th>newbalanceOrig</th>\n",
       "      <th>nameDest</th>\n",
       "      <th>oldbalanceDest</th>\n",
       "      <th>newbalanceDest</th>\n",
       "      <th>isFraud</th>\n",
       "      <th>isFlaggedFraud</th>\n",
       "    </tr>\n",
       "  </thead>\n",
       "  <tbody>\n",
       "    <tr>\n",
       "      <th>0</th>\n",
       "      <td>1</td>\n",
       "      <td>PAYMENT</td>\n",
       "      <td>9839.64</td>\n",
       "      <td>C1231006815</td>\n",
       "      <td>170136.0</td>\n",
       "      <td>160296.36</td>\n",
       "      <td>M1979787155</td>\n",
       "      <td>0.0</td>\n",
       "      <td>0.0</td>\n",
       "      <td>0</td>\n",
       "      <td>0</td>\n",
       "    </tr>\n",
       "    <tr>\n",
       "      <th>1</th>\n",
       "      <td>1</td>\n",
       "      <td>PAYMENT</td>\n",
       "      <td>1864.28</td>\n",
       "      <td>C1666544295</td>\n",
       "      <td>21249.0</td>\n",
       "      <td>19384.72</td>\n",
       "      <td>M2044282225</td>\n",
       "      <td>0.0</td>\n",
       "      <td>0.0</td>\n",
       "      <td>0</td>\n",
       "      <td>0</td>\n",
       "    </tr>\n",
       "    <tr>\n",
       "      <th>2</th>\n",
       "      <td>1</td>\n",
       "      <td>TRANSFER</td>\n",
       "      <td>181.00</td>\n",
       "      <td>C1305486145</td>\n",
       "      <td>181.0</td>\n",
       "      <td>0.00</td>\n",
       "      <td>C553264065</td>\n",
       "      <td>0.0</td>\n",
       "      <td>0.0</td>\n",
       "      <td>1</td>\n",
       "      <td>0</td>\n",
       "    </tr>\n",
       "    <tr>\n",
       "      <th>3</th>\n",
       "      <td>1</td>\n",
       "      <td>CASH_OUT</td>\n",
       "      <td>181.00</td>\n",
       "      <td>C840083671</td>\n",
       "      <td>181.0</td>\n",
       "      <td>0.00</td>\n",
       "      <td>C38997010</td>\n",
       "      <td>21182.0</td>\n",
       "      <td>0.0</td>\n",
       "      <td>1</td>\n",
       "      <td>0</td>\n",
       "    </tr>\n",
       "    <tr>\n",
       "      <th>4</th>\n",
       "      <td>1</td>\n",
       "      <td>PAYMENT</td>\n",
       "      <td>11668.14</td>\n",
       "      <td>C2048537720</td>\n",
       "      <td>41554.0</td>\n",
       "      <td>29885.86</td>\n",
       "      <td>M1230701703</td>\n",
       "      <td>0.0</td>\n",
       "      <td>0.0</td>\n",
       "      <td>0</td>\n",
       "      <td>0</td>\n",
       "    </tr>\n",
       "  </tbody>\n",
       "</table>\n",
       "</div>"
      ],
      "text/plain": [
       "   step      type    amount     nameOrig  oldbalanceOrg  newbalanceOrig  \\\n",
       "0     1   PAYMENT   9839.64  C1231006815       170136.0       160296.36   \n",
       "1     1   PAYMENT   1864.28  C1666544295        21249.0        19384.72   \n",
       "2     1  TRANSFER    181.00  C1305486145          181.0            0.00   \n",
       "3     1  CASH_OUT    181.00   C840083671          181.0            0.00   \n",
       "4     1   PAYMENT  11668.14  C2048537720        41554.0        29885.86   \n",
       "\n",
       "      nameDest  oldbalanceDest  newbalanceDest  isFraud  isFlaggedFraud  \n",
       "0  M1979787155             0.0             0.0        0               0  \n",
       "1  M2044282225             0.0             0.0        0               0  \n",
       "2   C553264065             0.0             0.0        1               0  \n",
       "3    C38997010         21182.0             0.0        1               0  \n",
       "4  M1230701703             0.0             0.0        0               0  "
      ]
     },
     "execution_count": 1,
     "metadata": {},
     "output_type": "execute_result"
    }
   ],
   "source": [
    "# ============================\n",
    "# Data Cleaning & Logging Notebook\n",
    "# ============================\n",
    "\n",
    "\n",
    "import pandas as pd\n",
    "import os\n",
    "\n",
    "# Paths\n",
    "raw_data_path = \"../Data/Raw/AIML Dataset.csv\"  \n",
    "cleaned_data_path = \"../Data/Cleaned/cleaned_data.csv\"\n",
    "log_folder = \"../Data/Log/\"\n",
    "\n",
    "# Create folders if they don't exist\n",
    "os.makedirs(\"cleaned\", exist_ok=True)\n",
    "os.makedirs(log_folder, exist_ok=True)\n",
    "\n",
    "# Load data\n",
    "df = pd.read_csv(raw_data_path)\n",
    "print(f\"Original data shape: {df.shape}\")\n",
    "df.head()\n"
   ]
  },
  {
   "cell_type": "markdown",
   "id": "21a30dcd-e37d-4359-8244-416f9dafb23c",
   "metadata": {},
   "source": [
    "# 2️⃣ Inspect dataset info"
   ]
  },
  {
   "cell_type": "code",
   "execution_count": 2,
   "id": "98bab348-e0d0-4229-a641-69f67b78c889",
   "metadata": {},
   "outputs": [
    {
     "name": "stdout",
     "output_type": "stream",
     "text": [
      "<class 'pandas.core.frame.DataFrame'>\n",
      "RangeIndex: 6362620 entries, 0 to 6362619\n",
      "Data columns (total 11 columns):\n",
      " #   Column          Dtype  \n",
      "---  ------          -----  \n",
      " 0   step            int64  \n",
      " 1   type            object \n",
      " 2   amount          float64\n",
      " 3   nameOrig        object \n",
      " 4   oldbalanceOrg   float64\n",
      " 5   newbalanceOrig  float64\n",
      " 6   nameDest        object \n",
      " 7   oldbalanceDest  float64\n",
      " 8   newbalanceDest  float64\n",
      " 9   isFraud         int64  \n",
      " 10  isFlaggedFraud  int64  \n",
      "dtypes: float64(5), int64(3), object(3)\n",
      "memory usage: 534.0+ MB\n",
      "None\n",
      "               step        amount  oldbalanceOrg  newbalanceOrig  \\\n",
      "count  6.362620e+06  6.362620e+06   6.362620e+06    6.362620e+06   \n",
      "mean   2.433972e+02  1.798619e+05   8.338831e+05    8.551137e+05   \n",
      "std    1.423320e+02  6.038582e+05   2.888243e+06    2.924049e+06   \n",
      "min    1.000000e+00  0.000000e+00   0.000000e+00    0.000000e+00   \n",
      "25%    1.560000e+02  1.338957e+04   0.000000e+00    0.000000e+00   \n",
      "50%    2.390000e+02  7.487194e+04   1.420800e+04    0.000000e+00   \n",
      "75%    3.350000e+02  2.087215e+05   1.073152e+05    1.442584e+05   \n",
      "max    7.430000e+02  9.244552e+07   5.958504e+07    4.958504e+07   \n",
      "\n",
      "       oldbalanceDest  newbalanceDest       isFraud  isFlaggedFraud  \n",
      "count    6.362620e+06    6.362620e+06  6.362620e+06    6.362620e+06  \n",
      "mean     1.100702e+06    1.224996e+06  1.290820e-03    2.514687e-06  \n",
      "std      3.399180e+06    3.674129e+06  3.590480e-02    1.585775e-03  \n",
      "min      0.000000e+00    0.000000e+00  0.000000e+00    0.000000e+00  \n",
      "25%      0.000000e+00    0.000000e+00  0.000000e+00    0.000000e+00  \n",
      "50%      1.327057e+05    2.146614e+05  0.000000e+00    0.000000e+00  \n",
      "75%      9.430367e+05    1.111909e+06  0.000000e+00    0.000000e+00  \n",
      "max      3.560159e+08    3.561793e+08  1.000000e+00    1.000000e+00  \n"
     ]
    }
   ],
   "source": [
    "\n",
    "print(df.info())\n",
    "print(df.describe())\n"
   ]
  },
  {
   "cell_type": "markdown",
   "id": "71029991-0ff7-486c-b1f0-553fc36a4592",
   "metadata": {},
   "source": [
    "# 3️⃣ Remove duplicates"
   ]
  },
  {
   "cell_type": "code",
   "execution_count": 3,
   "id": "3d218e36-ab03-4da6-8ba2-05477a148d75",
   "metadata": {},
   "outputs": [
    {
     "name": "stdout",
     "output_type": "stream",
     "text": [
      "Shape after removing duplicates: (6362620, 11)\n"
     ]
    }
   ],
   "source": [
    "\n",
    "duplicates = df[df.duplicated()]\n",
    "if not duplicates.empty:\n",
    "    duplicates.to_csv(os.path.join(log_folder, \"deleted_duplicates.csv\"), index=False)\n",
    "    print(f\"Logged {len(duplicates)} duplicate rows.\")\n",
    "df = df.drop_duplicates()\n",
    "print(f\"Shape after removing duplicates: {df.shape}\")\n"
   ]
  },
  {
   "cell_type": "markdown",
   "id": "9acb5e67-e5c7-4fd6-b495-06754d356948",
   "metadata": {},
   "source": [
    "# 4️⃣ Handle missing values"
   ]
  },
  {
   "cell_type": "code",
   "execution_count": 4,
   "id": "9af287d4-b919-4eb5-bbe8-aae9eca29fe8",
   "metadata": {},
   "outputs": [
    {
     "name": "stdout",
     "output_type": "stream",
     "text": [
      "Shape after removing missing values: (6362620, 11)\n"
     ]
    }
   ],
   "source": [
    "missing_rows = df[df.isnull().any(axis=1)]\n",
    "if not missing_rows.empty:\n",
    "    missing_rows.to_csv(os.path.join(log_folder, \"deleted_missing.csv\"), index=False)\n",
    "    print(f\"Logged {len(missing_rows)} rows with missing values.\")\n",
    "df = df.dropna()\n",
    "print(f\"Shape after removing missing values: {df.shape}\")"
   ]
  },
  {
   "cell_type": "markdown",
   "id": "0ad54c7b-9541-4681-bd5b-3e80ff83c869",
   "metadata": {},
   "source": [
    "# 5️⃣ Filter invalid transactions (negative or zero amounts)"
   ]
  },
  {
   "cell_type": "code",
   "execution_count": 5,
   "id": "70342d35-760f-4004-b2f9-9c6776e61eca",
   "metadata": {},
   "outputs": [
    {
     "name": "stdout",
     "output_type": "stream",
     "text": [
      "Logged 16 rows with invalid amounts.\n",
      "Shape after removing invalid amounts: (6362604, 11)\n"
     ]
    }
   ],
   "source": [
    "invalid_amounts = df[df['amount'] <= 0]\n",
    "if not invalid_amounts.empty:\n",
    "    invalid_amounts.to_csv(os.path.join(log_folder, \"deleted_invalid_amounts.csv\"), index=False)\n",
    "    print(f\"Logged {len(invalid_amounts)} rows with invalid amounts.\")\n",
    "df = df[df['amount'] > 0]\n",
    "print(f\"Shape after removing invalid amounts: {df.shape}\")"
   ]
  },
  {
   "cell_type": "markdown",
   "id": "061726cc-da44-48a8-a959-2487410557c7",
   "metadata": {},
   "source": [
    "# 6️⃣ Save cleaned data"
   ]
  },
  {
   "cell_type": "code",
   "execution_count": 6,
   "id": "91273da7-ed6c-4c33-9ecc-5ca0f5413f1f",
   "metadata": {},
   "outputs": [
    {
     "name": "stdout",
     "output_type": "stream",
     "text": [
      "Cleaned data saved to '../Data/Cleaned/cleaned_data.csv'\n"
     ]
    }
   ],
   "source": [
    "df.to_csv(cleaned_data_path, index=False)\n",
    "print(f\"Cleaned data saved to '{cleaned_data_path}'\")"
   ]
  },
  {
   "cell_type": "markdown",
   "id": "e96c7728-cffc-4922-9776-82fd58a3ebdd",
   "metadata": {},
   "source": [
    "# 7️⃣ Summary"
   ]
  },
  {
   "cell_type": "code",
   "execution_count": 7,
   "id": "3e6b6667-752e-4262-9de4-0f6ff44d5e3b",
   "metadata": {},
   "outputs": [
    {
     "name": "stdout",
     "output_type": "stream",
     "text": [
      "✅ Data cleaning completed successfully!\n",
      "Final dataset shape: (6362604, 11)\n",
      "Check the 'log/' folder for deleted rows.\n"
     ]
    }
   ],
   "source": [
    "print(\"✅ Data cleaning completed successfully!\")\n",
    "print(f\"Final dataset shape: {df.shape}\")\n",
    "print(\"Check the 'log/' folder for deleted rows.\")"
   ]
  }
 ],
 "metadata": {
  "kernelspec": {
   "display_name": "Python 3 (ipykernel)",
   "language": "python",
   "name": "python3"
  },
  "language_info": {
   "codemirror_mode": {
    "name": "ipython",
    "version": 3
   },
   "file_extension": ".py",
   "mimetype": "text/x-python",
   "name": "python",
   "nbconvert_exporter": "python",
   "pygments_lexer": "ipython3",
   "version": "3.12.8"
  }
 },
 "nbformat": 4,
 "nbformat_minor": 5
}
